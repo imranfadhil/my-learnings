{
 "cells": [
  {
   "cell_type": "markdown",
   "id": "23d77276",
   "metadata": {},
   "source": [
    "# Advanced Unsupervised ML"
   ]
  },
  {
   "attachments": {},
   "cell_type": "markdown",
   "id": "694ff704",
   "metadata": {},
   "source": [
    "### Descriptor: Knowledge Level\n",
    "1. Able to explain characteristics of high-dimensional clustering techniques and their challenges.\n",
    "2. Able to describe and compare cutting edge tools and techniques in unsupervised machine learning.\n",
    "3. Able to use advanced unsupervised machine learning algorithms."
   ]
  },
  {
   "cell_type": "markdown",
   "id": "c9c448c5",
   "metadata": {},
   "source": [
    "### 1. High Dimensional Clustering"
   ]
  },
  {
   "cell_type": "code",
   "execution_count": null,
   "id": "9087bcc6",
   "metadata": {},
   "outputs": [],
   "source": []
  },
  {
   "cell_type": "markdown",
   "id": "b7e991b3",
   "metadata": {},
   "source": [
    "### 2. Different Unsupervised ML Tools and Techniques"
   ]
  },
  {
   "cell_type": "code",
   "execution_count": null,
   "id": "e9b371f4",
   "metadata": {},
   "outputs": [],
   "source": []
  },
  {
   "cell_type": "markdown",
   "id": "b35db885",
   "metadata": {},
   "source": [
    "### 3. Advanced Unsupervised ML Algorithm"
   ]
  },
  {
   "cell_type": "markdown",
   "id": "c2739042",
   "metadata": {},
   "source": [
    "1. Principal Component Analysis\n",
    "2. K Means\n",
    "3. K Nearest Neighbour"
   ]
  },
  {
   "cell_type": "code",
   "execution_count": null,
   "id": "5f5f78e1",
   "metadata": {},
   "outputs": [],
   "source": []
  }
 ],
 "metadata": {
  "kernelspec": {
   "display_name": "Python 3 (ipykernel)",
   "language": "python",
   "name": "python3"
  },
  "language_info": {
   "codemirror_mode": {
    "name": "ipython",
    "version": 3
   },
   "file_extension": ".py",
   "mimetype": "text/x-python",
   "name": "python",
   "nbconvert_exporter": "python",
   "pygments_lexer": "ipython3",
   "version": "3.7.9"
  }
 },
 "nbformat": 4,
 "nbformat_minor": 5
}
