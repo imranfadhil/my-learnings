{
 "cells": [
  {
   "cell_type": "markdown",
   "id": "ed15acef",
   "metadata": {},
   "source": [
    "# Advanced Unsupervised ML"
   ]
  },
  {
   "attachments": {},
   "cell_type": "markdown",
   "id": "6e37aa2e",
   "metadata": {},
   "source": [
    "### Descriptor: Knowledge Level\n",
    "1. Able to explain characteristics of high-dimensional clustering techniques and their challenges.\n",
    "2. Able to describe and compare cutting edge tools and techniques in unsupervised machine learning.\n",
    "3. Able to use advanced unsupervised machine learning algorithms."
   ]
  },
  {
   "cell_type": "markdown",
   "id": "004120f9",
   "metadata": {},
   "source": [
    "### 1. High Dimensional Clustering\n",
    "\n",
    "Curse of Dimensionality\n",
    "- Increase computational requirement\n",
    "- Not visual friendly\n",
    "- \n",
    "\n",
    "Dimensionality Reduction\n",
    "- Feature selection\n",
    "- Feature reduction"
   ]
  },
  {
   "cell_type": "code",
   "execution_count": null,
   "id": "31a5dd16",
   "metadata": {},
   "outputs": [],
   "source": []
  },
  {
   "cell_type": "markdown",
   "id": "d896d837",
   "metadata": {},
   "source": [
    "### 2. Different Unsupervised ML Tools and Techniques\n",
    "\n",
    "1. Density based\n",
    "2. Distance based\n",
    "3. Outlier detection"
   ]
  },
  {
   "cell_type": "code",
   "execution_count": null,
   "id": "906b53b3",
   "metadata": {},
   "outputs": [],
   "source": []
  },
  {
   "cell_type": "markdown",
   "id": "2f6d9474",
   "metadata": {},
   "source": [
    "### 3. Advanced Unsupervised ML Algorithm\n",
    "1. Principal Component Analysis\n",
    "2. K Means\n",
    "3. K Nearest Neighbour"
   ]
  },
  {
   "cell_type": "markdown",
   "id": "265bc5b5",
   "metadata": {},
   "source": []
  },
  {
   "cell_type": "code",
   "execution_count": null,
   "id": "8b8c7e76",
   "metadata": {},
   "outputs": [],
   "source": []
  }
 ],
 "metadata": {
  "kernelspec": {
   "display_name": "Python 3 (ipykernel)",
   "language": "python",
   "name": "python3"
  },
  "language_info": {
   "codemirror_mode": {
    "name": "ipython",
    "version": 3
   },
   "file_extension": ".py",
   "mimetype": "text/x-python",
   "name": "python",
   "nbconvert_exporter": "python",
   "pygments_lexer": "ipython3",
   "version": "3.7.9"
  }
 },
 "nbformat": 4,
 "nbformat_minor": 5
}
