{
 "cells": [
  {
   "cell_type": "markdown",
   "id": "ed15acef",
   "metadata": {},
   "source": [
    "# Reliability Analysis"
   ]
  },
  {
   "cell_type": "markdown",
   "id": "bbb2a6b0",
   "metadata": {},
   "source": [
    "## Awareness\n",
    "1. Awareness of reliability concepts and applications.\n",
    "2. Understanding reliability concepts, methods, and applications."
   ]
  },
  {
   "cell_type": "markdown",
   "id": "15304b9a",
   "metadata": {},
   "source": [
    "Reliability is the probability of an item performing its intended function **without failure** for a specified period of time. Its key concepts:\n",
    "+ Probability: the likelihood of success.\n",
    "+ Function: to cut, heat, or rotate.\n",
    "+ Satisfactory: meet specifications with acceptable compliance.\n",
    "+ Specific period: minutes, days, months, or cycle.\n",
    "+ Specific condition: temperature, speed, or pressure.\n",
    "\n",
    "Source: [What is Reliability?](https://asq.org/quality-resources/reliability)"
   ]
  },
  {
   "cell_type": "markdown",
   "id": "65999bb1",
   "metadata": {},
   "source": [
    "**Failure rate**: the number of times of an item fails in a specified period of time.\n",
    "$$ \\lambda = \\frac{Number\\ of\\ Failures}{Total\\ Period\\ of\\ Time} $$\n",
    "\n",
    "**Time to Failure (MTTF)**: the duration until an item to fail.\n",
    "$$ TTF = Total\\ Durations\\ of\\ Operation $$\n",
    "\n",
    "**Mean Time to Failure (MTTF)**: the average time for an item to fail.\n",
    "$$ MTTF = \\frac{Total\\ Durations\\ of\\ Operation}{Total\\ Numbers\\ of\\ Time} $$\n",
    "\n",
    "**Mean Time to Repair (MTTR)**: the average time required to repair.\n",
    "$$ MTTR = \\frac{Total\\ Durations\\ of\\ Maintenance}{Total\\ Numbers\\ of\\ Repairs} $$\n",
    "\n",
    "Source: [MTBF and Product Reliability](https://ftp.automationdirect.com/pub/Product%20Reliability%20and%20MTBF.pdf)"
   ]
  },
  {
   "cell_type": "code",
   "execution_count": null,
   "id": "8b8c7e76",
   "metadata": {},
   "outputs": [],
   "source": []
  },
  {
   "cell_type": "markdown",
   "id": "bc776514",
   "metadata": {},
   "source": [
    "## Knowledge\n",
    "1. Apply reliability methods effectively.\n",
    "2. Understand basic reliability analysis methods.\n",
    "3. Able to use reliability software or packages for implementing reliability models."
   ]
  },
  {
   "cell_type": "code",
   "execution_count": null,
   "id": "501819f1",
   "metadata": {},
   "outputs": [],
   "source": []
  }
 ],
 "metadata": {
  "kernelspec": {
   "display_name": "Python 3 (ipykernel)",
   "language": "python",
   "name": "python3"
  },
  "language_info": {
   "codemirror_mode": {
    "name": "ipython",
    "version": 3
   },
   "file_extension": ".py",
   "mimetype": "text/x-python",
   "name": "python",
   "nbconvert_exporter": "python",
   "pygments_lexer": "ipython3",
   "version": "3.7.9"
  }
 },
 "nbformat": 4,
 "nbformat_minor": 5
}
