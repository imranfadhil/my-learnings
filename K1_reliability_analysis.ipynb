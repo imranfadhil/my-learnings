{
 "cells": [
  {
   "cell_type": "markdown",
   "id": "ed15acef",
   "metadata": {},
   "source": [
    "# Reliability Analysis"
   ]
  },
  {
   "cell_type": "markdown",
   "id": "bbb2a6b0",
   "metadata": {},
   "source": [
    "## Awareness\n",
    "1. Awareness of reliability concepts and applications.\n",
    "2. Understanding reliability concepts, methods, and applications."
   ]
  },
  {
   "cell_type": "markdown",
   "id": "15304b9a",
   "metadata": {},
   "source": [
    "Reliability is the probability of an item performing its intended function **without failure** for a specified period of time. Its key concepts:\n",
    "+ Probability: the likelihood of success.\n",
    "+ Function: to cut, heat, or rotate.\n",
    "+ Satisfactory: meet specifications with acceptable compliance.\n",
    "+ Specific period: minutes, days, months, or cycle.\n",
    "+ Specific condition: temperature, speed, or pressure.\n",
    "\n",
    "Source: [What is Reliability?](https://asq.org/quality-resources/reliability)"
   ]
  },
  {
   "cell_type": "markdown",
   "id": "65999bb1",
   "metadata": {},
   "source": [
    "**Failure rate**: the number of times of an item fails in a specified period of time.\n",
    "$$ \\lambda = \\frac{Number\\ of\\ Failures}{Total\\ Period\\ of\\ Time} $$\n",
    "\n",
    "**Time to Failure (TTF)**: the duration until an item to fail.\n",
    "$$ TTF = Total\\ Durations\\ of\\ Operation $$\n",
    "\n",
    "**Mean Time to Failure (MTTF)**: the average time for an item to fail.\n",
    "$$ MTTF = \\frac{Total\\ Durations\\ of\\ Operation}{Total\\ Numbers\\ of\\ Time} $$\n",
    "\n",
    "**Mean Time to Repair (MTTR)**: the average time required to repair.\n",
    "$$ MTTR = \\frac{Total\\ Durations\\ of\\ Maintenance}{Total\\ Numbers\\ of\\ Repairs} $$\n",
    "\n",
    "Source: [MTBF and Product Reliability](https://ftp.automationdirect.com/pub/Product%20Reliability%20and%20MTBF.pdf)"
   ]
  },
  {
   "cell_type": "code",
   "execution_count": null,
   "id": "8b8c7e76",
   "metadata": {},
   "outputs": [],
   "source": []
  },
  {
   "cell_type": "markdown",
   "id": "bc776514",
   "metadata": {},
   "source": [
    "## Knowledge\n",
    "1. Apply reliability methods effectively.\n",
    "2. Understand basic reliability analysis methods.\n",
    "3. Able to use reliability software or packages for implementing reliability models."
   ]
  },
  {
   "cell_type": "markdown",
   "id": "7d2d3a01",
   "metadata": {},
   "source": [
    "# Device Failure\n",
    "A company wants to create a predictive maintenance solution to identify when its devices need maintenance. This approach promises cost savings over routine or time based preventive maintenance, because tasks are performed only when warranted.\n",
    "\n",
    "Source: [Predictive Maintenance Dataset](https://www.kaggle.com/datasets/hiimanshuagarwal/predictive-maintenance-dataset/data)"
   ]
  },
  {
   "cell_type": "markdown",
   "id": "c95268cd",
   "metadata": {},
   "source": [
    "## Data Overview"
   ]
  },
  {
   "cell_type": "code",
   "execution_count": 1,
   "id": "9fbcc300",
   "metadata": {},
   "outputs": [],
   "source": [
    "import pandas as pd\n",
    "import numpy as np\n",
    "import seaborn as sns\n",
    "import matplotlib.pyplot as plt"
   ]
  },
  {
   "cell_type": "code",
   "execution_count": 2,
   "id": "501819f1",
   "metadata": {},
   "outputs": [
    {
     "data": {
      "text/html": [
       "<div>\n",
       "<style scoped>\n",
       "    .dataframe tbody tr th:only-of-type {\n",
       "        vertical-align: middle;\n",
       "    }\n",
       "\n",
       "    .dataframe tbody tr th {\n",
       "        vertical-align: top;\n",
       "    }\n",
       "\n",
       "    .dataframe thead th {\n",
       "        text-align: right;\n",
       "    }\n",
       "</style>\n",
       "<table border=\"1\" class=\"dataframe\">\n",
       "  <thead>\n",
       "    <tr style=\"text-align: right;\">\n",
       "      <th></th>\n",
       "      <th>date</th>\n",
       "      <th>device</th>\n",
       "      <th>failure</th>\n",
       "      <th>metric1</th>\n",
       "      <th>metric2</th>\n",
       "      <th>metric3</th>\n",
       "      <th>metric4</th>\n",
       "      <th>metric5</th>\n",
       "      <th>metric6</th>\n",
       "      <th>metric7</th>\n",
       "      <th>metric8</th>\n",
       "      <th>metric9</th>\n",
       "    </tr>\n",
       "  </thead>\n",
       "  <tbody>\n",
       "    <tr>\n",
       "      <th>0</th>\n",
       "      <td>1/1/2015</td>\n",
       "      <td>S1F01085</td>\n",
       "      <td>0</td>\n",
       "      <td>215630672</td>\n",
       "      <td>55</td>\n",
       "      <td>0</td>\n",
       "      <td>52</td>\n",
       "      <td>6</td>\n",
       "      <td>407438</td>\n",
       "      <td>0</td>\n",
       "      <td>0</td>\n",
       "      <td>7</td>\n",
       "    </tr>\n",
       "    <tr>\n",
       "      <th>1</th>\n",
       "      <td>1/1/2015</td>\n",
       "      <td>S1F0166B</td>\n",
       "      <td>0</td>\n",
       "      <td>61370680</td>\n",
       "      <td>0</td>\n",
       "      <td>3</td>\n",
       "      <td>0</td>\n",
       "      <td>6</td>\n",
       "      <td>403174</td>\n",
       "      <td>0</td>\n",
       "      <td>0</td>\n",
       "      <td>0</td>\n",
       "    </tr>\n",
       "    <tr>\n",
       "      <th>2</th>\n",
       "      <td>1/1/2015</td>\n",
       "      <td>S1F01E6Y</td>\n",
       "      <td>0</td>\n",
       "      <td>173295968</td>\n",
       "      <td>0</td>\n",
       "      <td>0</td>\n",
       "      <td>0</td>\n",
       "      <td>12</td>\n",
       "      <td>237394</td>\n",
       "      <td>0</td>\n",
       "      <td>0</td>\n",
       "      <td>0</td>\n",
       "    </tr>\n",
       "    <tr>\n",
       "      <th>3</th>\n",
       "      <td>1/1/2015</td>\n",
       "      <td>S1F01JE0</td>\n",
       "      <td>0</td>\n",
       "      <td>79694024</td>\n",
       "      <td>0</td>\n",
       "      <td>0</td>\n",
       "      <td>0</td>\n",
       "      <td>6</td>\n",
       "      <td>410186</td>\n",
       "      <td>0</td>\n",
       "      <td>0</td>\n",
       "      <td>0</td>\n",
       "    </tr>\n",
       "    <tr>\n",
       "      <th>4</th>\n",
       "      <td>1/1/2015</td>\n",
       "      <td>S1F01R2B</td>\n",
       "      <td>0</td>\n",
       "      <td>135970480</td>\n",
       "      <td>0</td>\n",
       "      <td>0</td>\n",
       "      <td>0</td>\n",
       "      <td>15</td>\n",
       "      <td>313173</td>\n",
       "      <td>0</td>\n",
       "      <td>0</td>\n",
       "      <td>3</td>\n",
       "    </tr>\n",
       "  </tbody>\n",
       "</table>\n",
       "</div>"
      ],
      "text/plain": [
       "       date    device  failure    metric1  metric2  metric3  metric4  metric5  \\\n",
       "0  1/1/2015  S1F01085        0  215630672       55        0       52        6   \n",
       "1  1/1/2015  S1F0166B        0   61370680        0        3        0        6   \n",
       "2  1/1/2015  S1F01E6Y        0  173295968        0        0        0       12   \n",
       "3  1/1/2015  S1F01JE0        0   79694024        0        0        0        6   \n",
       "4  1/1/2015  S1F01R2B        0  135970480        0        0        0       15   \n",
       "\n",
       "   metric6  metric7  metric8  metric9  \n",
       "0   407438        0        0        7  \n",
       "1   403174        0        0        0  \n",
       "2   237394        0        0        0  \n",
       "3   410186        0        0        0  \n",
       "4   313173        0        0        3  "
      ]
     },
     "execution_count": 2,
     "metadata": {},
     "output_type": "execute_result"
    }
   ],
   "source": [
    "df = pd.read_csv(\"data/predictive_maintenance_dataset.csv\")\n",
    "df.head()"
   ]
  },
  {
   "cell_type": "code",
   "execution_count": 3,
   "id": "b36775b9",
   "metadata": {},
   "outputs": [
    {
     "data": {
      "text/html": [
       "<div>\n",
       "<style scoped>\n",
       "    .dataframe tbody tr th:only-of-type {\n",
       "        vertical-align: middle;\n",
       "    }\n",
       "\n",
       "    .dataframe tbody tr th {\n",
       "        vertical-align: top;\n",
       "    }\n",
       "\n",
       "    .dataframe thead th {\n",
       "        text-align: right;\n",
       "    }\n",
       "</style>\n",
       "<table border=\"1\" class=\"dataframe\">\n",
       "  <thead>\n",
       "    <tr style=\"text-align: right;\">\n",
       "      <th></th>\n",
       "      <th>date</th>\n",
       "      <th>device</th>\n",
       "      <th>failure</th>\n",
       "      <th>metric1</th>\n",
       "      <th>metric2</th>\n",
       "      <th>metric3</th>\n",
       "      <th>metric4</th>\n",
       "      <th>metric5</th>\n",
       "      <th>metric6</th>\n",
       "      <th>metric7</th>\n",
       "      <th>metric8</th>\n",
       "      <th>metric9</th>\n",
       "    </tr>\n",
       "  </thead>\n",
       "  <tbody>\n",
       "    <tr>\n",
       "      <th>124489</th>\n",
       "      <td>11/2/2015</td>\n",
       "      <td>Z1F0MA1S</td>\n",
       "      <td>0</td>\n",
       "      <td>18310224</td>\n",
       "      <td>0</td>\n",
       "      <td>0</td>\n",
       "      <td>0</td>\n",
       "      <td>10</td>\n",
       "      <td>353705</td>\n",
       "      <td>8</td>\n",
       "      <td>8</td>\n",
       "      <td>0</td>\n",
       "    </tr>\n",
       "    <tr>\n",
       "      <th>124490</th>\n",
       "      <td>11/2/2015</td>\n",
       "      <td>Z1F0Q8RT</td>\n",
       "      <td>0</td>\n",
       "      <td>172556680</td>\n",
       "      <td>96</td>\n",
       "      <td>107</td>\n",
       "      <td>4</td>\n",
       "      <td>11</td>\n",
       "      <td>332792</td>\n",
       "      <td>0</td>\n",
       "      <td>0</td>\n",
       "      <td>13</td>\n",
       "    </tr>\n",
       "    <tr>\n",
       "      <th>124491</th>\n",
       "      <td>11/2/2015</td>\n",
       "      <td>Z1F0QK05</td>\n",
       "      <td>0</td>\n",
       "      <td>19029120</td>\n",
       "      <td>4832</td>\n",
       "      <td>0</td>\n",
       "      <td>0</td>\n",
       "      <td>11</td>\n",
       "      <td>350410</td>\n",
       "      <td>0</td>\n",
       "      <td>0</td>\n",
       "      <td>0</td>\n",
       "    </tr>\n",
       "    <tr>\n",
       "      <th>124492</th>\n",
       "      <td>11/2/2015</td>\n",
       "      <td>Z1F0QL3N</td>\n",
       "      <td>0</td>\n",
       "      <td>226953408</td>\n",
       "      <td>0</td>\n",
       "      <td>0</td>\n",
       "      <td>0</td>\n",
       "      <td>12</td>\n",
       "      <td>358980</td>\n",
       "      <td>0</td>\n",
       "      <td>0</td>\n",
       "      <td>0</td>\n",
       "    </tr>\n",
       "    <tr>\n",
       "      <th>124493</th>\n",
       "      <td>11/2/2015</td>\n",
       "      <td>Z1F0QLC1</td>\n",
       "      <td>0</td>\n",
       "      <td>17572840</td>\n",
       "      <td>0</td>\n",
       "      <td>0</td>\n",
       "      <td>0</td>\n",
       "      <td>10</td>\n",
       "      <td>351431</td>\n",
       "      <td>0</td>\n",
       "      <td>0</td>\n",
       "      <td>70000</td>\n",
       "    </tr>\n",
       "  </tbody>\n",
       "</table>\n",
       "</div>"
      ],
      "text/plain": [
       "             date    device  failure    metric1  metric2  metric3  metric4  \\\n",
       "124489  11/2/2015  Z1F0MA1S        0   18310224        0        0        0   \n",
       "124490  11/2/2015  Z1F0Q8RT        0  172556680       96      107        4   \n",
       "124491  11/2/2015  Z1F0QK05        0   19029120     4832        0        0   \n",
       "124492  11/2/2015  Z1F0QL3N        0  226953408        0        0        0   \n",
       "124493  11/2/2015  Z1F0QLC1        0   17572840        0        0        0   \n",
       "\n",
       "        metric5  metric6  metric7  metric8  metric9  \n",
       "124489       10   353705        8        8        0  \n",
       "124490       11   332792        0        0       13  \n",
       "124491       11   350410        0        0        0  \n",
       "124492       12   358980        0        0        0  \n",
       "124493       10   351431        0        0    70000  "
      ]
     },
     "execution_count": 3,
     "metadata": {},
     "output_type": "execute_result"
    }
   ],
   "source": [
    "df.tail()"
   ]
  },
  {
   "cell_type": "markdown",
   "id": "06d0131c",
   "metadata": {},
   "source": [
    "What type of data that is stored?"
   ]
  },
  {
   "cell_type": "code",
   "execution_count": 4,
   "id": "a611dba3",
   "metadata": {},
   "outputs": [
    {
     "data": {
      "text/plain": [
       "date       object\n",
       "device     object\n",
       "failure     int64\n",
       "metric1     int64\n",
       "metric2     int64\n",
       "metric3     int64\n",
       "metric4     int64\n",
       "metric5     int64\n",
       "metric6     int64\n",
       "metric7     int64\n",
       "metric8     int64\n",
       "metric9     int64\n",
       "dtype: object"
      ]
     },
     "execution_count": 4,
     "metadata": {},
     "output_type": "execute_result"
    }
   ],
   "source": [
    "df.dtypes"
   ]
  },
  {
   "cell_type": "markdown",
   "id": "8139f3e3",
   "metadata": {},
   "source": [
    "Date stored as object type. Let set the date column into datetime type."
   ]
  },
  {
   "cell_type": "code",
   "execution_count": 5,
   "id": "3b23973a",
   "metadata": {},
   "outputs": [],
   "source": [
    "df[\"date\"] = pd.to_datetime(df[\"date\"])"
   ]
  },
  {
   "cell_type": "markdown",
   "id": "f20c9352",
   "metadata": {},
   "source": [
    "Display table for Device S1F01085."
   ]
  },
  {
   "cell_type": "code",
   "execution_count": 6,
   "id": "4dd755d1",
   "metadata": {},
   "outputs": [
    {
     "data": {
      "text/html": [
       "<div>\n",
       "<style scoped>\n",
       "    .dataframe tbody tr th:only-of-type {\n",
       "        vertical-align: middle;\n",
       "    }\n",
       "\n",
       "    .dataframe tbody tr th {\n",
       "        vertical-align: top;\n",
       "    }\n",
       "\n",
       "    .dataframe thead th {\n",
       "        text-align: right;\n",
       "    }\n",
       "</style>\n",
       "<table border=\"1\" class=\"dataframe\">\n",
       "  <thead>\n",
       "    <tr style=\"text-align: right;\">\n",
       "      <th></th>\n",
       "      <th>date</th>\n",
       "      <th>device</th>\n",
       "      <th>failure</th>\n",
       "      <th>metric1</th>\n",
       "      <th>metric2</th>\n",
       "      <th>metric3</th>\n",
       "      <th>metric4</th>\n",
       "      <th>metric5</th>\n",
       "      <th>metric6</th>\n",
       "      <th>metric7</th>\n",
       "      <th>metric8</th>\n",
       "      <th>metric9</th>\n",
       "    </tr>\n",
       "  </thead>\n",
       "  <tbody>\n",
       "    <tr>\n",
       "      <th>0</th>\n",
       "      <td>2015-01-01</td>\n",
       "      <td>S1F01085</td>\n",
       "      <td>0</td>\n",
       "      <td>215630672</td>\n",
       "      <td>55</td>\n",
       "      <td>0</td>\n",
       "      <td>52</td>\n",
       "      <td>6</td>\n",
       "      <td>407438</td>\n",
       "      <td>0</td>\n",
       "      <td>0</td>\n",
       "      <td>7</td>\n",
       "    </tr>\n",
       "    <tr>\n",
       "      <th>1163</th>\n",
       "      <td>2015-01-02</td>\n",
       "      <td>S1F01085</td>\n",
       "      <td>0</td>\n",
       "      <td>1650864</td>\n",
       "      <td>56</td>\n",
       "      <td>0</td>\n",
       "      <td>52</td>\n",
       "      <td>6</td>\n",
       "      <td>407438</td>\n",
       "      <td>0</td>\n",
       "      <td>0</td>\n",
       "      <td>7</td>\n",
       "    </tr>\n",
       "    <tr>\n",
       "      <th>2326</th>\n",
       "      <td>2015-01-03</td>\n",
       "      <td>S1F01085</td>\n",
       "      <td>0</td>\n",
       "      <td>124017368</td>\n",
       "      <td>56</td>\n",
       "      <td>0</td>\n",
       "      <td>52</td>\n",
       "      <td>6</td>\n",
       "      <td>407438</td>\n",
       "      <td>0</td>\n",
       "      <td>0</td>\n",
       "      <td>7</td>\n",
       "    </tr>\n",
       "    <tr>\n",
       "      <th>3489</th>\n",
       "      <td>2015-01-04</td>\n",
       "      <td>S1F01085</td>\n",
       "      <td>0</td>\n",
       "      <td>128073224</td>\n",
       "      <td>56</td>\n",
       "      <td>0</td>\n",
       "      <td>52</td>\n",
       "      <td>6</td>\n",
       "      <td>407439</td>\n",
       "      <td>0</td>\n",
       "      <td>0</td>\n",
       "      <td>7</td>\n",
       "    </tr>\n",
       "    <tr>\n",
       "      <th>4651</th>\n",
       "      <td>2015-01-05</td>\n",
       "      <td>S1F01085</td>\n",
       "      <td>0</td>\n",
       "      <td>97393448</td>\n",
       "      <td>56</td>\n",
       "      <td>0</td>\n",
       "      <td>52</td>\n",
       "      <td>6</td>\n",
       "      <td>408114</td>\n",
       "      <td>0</td>\n",
       "      <td>0</td>\n",
       "      <td>7</td>\n",
       "    </tr>\n",
       "    <tr>\n",
       "      <th>5812</th>\n",
       "      <td>2015-01-06</td>\n",
       "      <td>S1F01085</td>\n",
       "      <td>0</td>\n",
       "      <td>128832128</td>\n",
       "      <td>56</td>\n",
       "      <td>0</td>\n",
       "      <td>52</td>\n",
       "      <td>6</td>\n",
       "      <td>409404</td>\n",
       "      <td>0</td>\n",
       "      <td>0</td>\n",
       "      <td>7</td>\n",
       "    </tr>\n",
       "  </tbody>\n",
       "</table>\n",
       "</div>"
      ],
      "text/plain": [
       "           date    device  failure    metric1  metric2  metric3  metric4  \\\n",
       "0    2015-01-01  S1F01085        0  215630672       55        0       52   \n",
       "1163 2015-01-02  S1F01085        0    1650864       56        0       52   \n",
       "2326 2015-01-03  S1F01085        0  124017368       56        0       52   \n",
       "3489 2015-01-04  S1F01085        0  128073224       56        0       52   \n",
       "4651 2015-01-05  S1F01085        0   97393448       56        0       52   \n",
       "5812 2015-01-06  S1F01085        0  128832128       56        0       52   \n",
       "\n",
       "      metric5  metric6  metric7  metric8  metric9  \n",
       "0           6   407438        0        0        7  \n",
       "1163        6   407438        0        0        7  \n",
       "2326        6   407438        0        0        7  \n",
       "3489        6   407439        0        0        7  \n",
       "4651        6   408114        0        0        7  \n",
       "5812        6   409404        0        0        7  "
      ]
     },
     "execution_count": 6,
     "metadata": {},
     "output_type": "execute_result"
    }
   ],
   "source": [
    "df[df[\"device\"] == \"S1F01085\"].head(7)"
   ]
  },
  {
   "cell_type": "markdown",
   "id": "293337d8",
   "metadata": {},
   "source": [
    "How many devices are there?"
   ]
  },
  {
   "cell_type": "code",
   "execution_count": 7,
   "id": "b52cf90f",
   "metadata": {},
   "outputs": [
    {
     "name": "stdout",
     "output_type": "stream",
     "text": [
      "There are 1169 total devices\n"
     ]
    }
   ],
   "source": [
    "total_devices = df[\"device\"].nunique()\n",
    "print(f\"There are {total_devices} total devices\")"
   ]
  },
  {
   "cell_type": "markdown",
   "id": "c3bd2ff7",
   "metadata": {},
   "source": [
    "What is the duration of the dataset?"
   ]
  },
  {
   "cell_type": "code",
   "execution_count": 8,
   "id": "138922d8",
   "metadata": {},
   "outputs": [
    {
     "data": {
      "text/plain": [
       "count                           124494\n",
       "mean     2015-04-16 05:20:49.737337088\n",
       "min                2015-01-01 00:00:00\n",
       "25%                2015-02-09 00:00:00\n",
       "50%                2015-03-27 00:00:00\n",
       "75%                2015-06-17 00:00:00\n",
       "max                2015-11-02 00:00:00\n",
       "Name: date, dtype: object"
      ]
     },
     "metadata": {},
     "output_type": "display_data"
    },
    {
     "name": "stdout",
     "output_type": "stream",
     "text": [
      "It seems this dataset have daily frequency.\n"
     ]
    }
   ],
   "source": [
    "display(df[\"date\"].describe())\n",
    "print(\"It seems this dataset have daily frequency.\")"
   ]
  },
  {
   "cell_type": "markdown",
   "id": "4503612f",
   "metadata": {},
   "source": [
    "Are there any missing values?"
   ]
  },
  {
   "cell_type": "code",
   "execution_count": 9,
   "id": "01ab364d",
   "metadata": {},
   "outputs": [
    {
     "data": {
      "text/plain": [
       "date       0\n",
       "device     0\n",
       "failure    0\n",
       "metric1    0\n",
       "metric2    0\n",
       "metric3    0\n",
       "metric4    0\n",
       "metric5    0\n",
       "metric6    0\n",
       "metric7    0\n",
       "metric8    0\n",
       "metric9    0\n",
       "dtype: int64"
      ]
     },
     "metadata": {},
     "output_type": "display_data"
    },
    {
     "name": "stdout",
     "output_type": "stream",
     "text": [
      "There are 0 missing values.\n"
     ]
    }
   ],
   "source": [
    "display(df.isnull().sum())\n",
    "print(f\"There are {df.isnull().sum().sum()} missing values.\")"
   ]
  },
  {
   "cell_type": "markdown",
   "id": "5ca5f4c1",
   "metadata": {},
   "source": [
    "Are there any missing date?"
   ]
  },
  {
   "cell_type": "code",
   "execution_count": 10,
   "id": "2828179d",
   "metadata": {},
   "outputs": [
    {
     "name": "stdout",
     "output_type": "stream",
     "text": [
      "There are 2 missing dates in dataset. \n",
      "DatetimeIndex(['2015-10-28', '2015-11-01'], dtype='datetime64[ns]', freq=None) \n"
     ]
    }
   ],
   "source": [
    "missing_dates = pd.date_range(start=\"2015-01-01 00:00:00\", end=\"2015-11-02 00:00:00\", freq=\"d\").difference(df[\"date\"])\n",
    "print(f\"There are {len(missing_dates)} missing dates in dataset. \\n{missing_dates} \")"
   ]
  },
  {
   "cell_type": "markdown",
   "id": "279d48c0",
   "metadata": {},
   "source": [
    "Are there any duplicates? One device should have unique timestamp."
   ]
  },
  {
   "cell_type": "code",
   "execution_count": 11,
   "id": "971c6f15",
   "metadata": {},
   "outputs": [
    {
     "name": "stdout",
     "output_type": "stream",
     "text": [
      "There are 2 duplicates in dataset.\n"
     ]
    },
    {
     "data": {
      "text/html": [
       "<div>\n",
       "<style scoped>\n",
       "    .dataframe tbody tr th:only-of-type {\n",
       "        vertical-align: middle;\n",
       "    }\n",
       "\n",
       "    .dataframe tbody tr th {\n",
       "        vertical-align: top;\n",
       "    }\n",
       "\n",
       "    .dataframe thead th {\n",
       "        text-align: right;\n",
       "    }\n",
       "</style>\n",
       "<table border=\"1\" class=\"dataframe\">\n",
       "  <thead>\n",
       "    <tr style=\"text-align: right;\">\n",
       "      <th></th>\n",
       "      <th>date</th>\n",
       "      <th>device</th>\n",
       "      <th>failure</th>\n",
       "      <th>metric1</th>\n",
       "      <th>metric2</th>\n",
       "      <th>metric3</th>\n",
       "      <th>metric4</th>\n",
       "      <th>metric5</th>\n",
       "      <th>metric6</th>\n",
       "      <th>metric7</th>\n",
       "      <th>metric8</th>\n",
       "      <th>metric9</th>\n",
       "    </tr>\n",
       "  </thead>\n",
       "  <tbody>\n",
       "    <tr>\n",
       "      <th>101334</th>\n",
       "      <td>2015-07-10</td>\n",
       "      <td>S1F0R4Q8</td>\n",
       "      <td>0</td>\n",
       "      <td>192721392</td>\n",
       "      <td>0</td>\n",
       "      <td>0</td>\n",
       "      <td>0</td>\n",
       "      <td>8</td>\n",
       "      <td>213700</td>\n",
       "      <td>0</td>\n",
       "      <td>0</td>\n",
       "      <td>0</td>\n",
       "    </tr>\n",
       "    <tr>\n",
       "      <th>101335</th>\n",
       "      <td>2015-07-10</td>\n",
       "      <td>S1F0R4Q8</td>\n",
       "      <td>0</td>\n",
       "      <td>192721392</td>\n",
       "      <td>0</td>\n",
       "      <td>0</td>\n",
       "      <td>0</td>\n",
       "      <td>8</td>\n",
       "      <td>213700</td>\n",
       "      <td>0</td>\n",
       "      <td>0</td>\n",
       "      <td>0</td>\n",
       "    </tr>\n",
       "  </tbody>\n",
       "</table>\n",
       "</div>"
      ],
      "text/plain": [
       "             date    device  failure    metric1  metric2  metric3  metric4  \\\n",
       "101334 2015-07-10  S1F0R4Q8        0  192721392        0        0        0   \n",
       "101335 2015-07-10  S1F0R4Q8        0  192721392        0        0        0   \n",
       "\n",
       "        metric5  metric6  metric7  metric8  metric9  \n",
       "101334        8   213700        0        0        0  \n",
       "101335        8   213700        0        0        0  "
      ]
     },
     "metadata": {},
     "output_type": "display_data"
    },
    {
     "name": "stdout",
     "output_type": "stream",
     "text": [
      "Done drop duplicates.\n"
     ]
    }
   ],
   "source": [
    "total_duplicates = df.duplicated(subset=[\"date\", \"device\"], keep=False).sum()\n",
    "print(f\"There are {total_duplicates} duplicates in dataset.\")\n",
    "\n",
    "if total_duplicates > 0:\n",
    "    display(df[df.duplicated(subset=[\"date\", \"device\"], keep=False)])\n",
    "    df = df.drop_duplicates()\n",
    "    df = df.reset_index(drop=True)\n",
    "    print(\"Done drop duplicates.\")"
   ]
  },
  {
   "cell_type": "markdown",
   "id": "5f5814b9",
   "metadata": {},
   "source": [
    "## EDA"
   ]
  },
  {
   "cell_type": "markdown",
   "id": "106bf4a0",
   "metadata": {},
   "source": [
    "Creating feature based on date."
   ]
  },
  {
   "cell_type": "code",
   "execution_count": 12,
   "id": "a284b7d9",
   "metadata": {},
   "outputs": [],
   "source": [
    "df.sort_values(by=[\"device\", \"date\"], inplace=True)\n",
    "df[\"month\"] = df[\"date\"].dt.month\n",
    "df[\"week_day\"] = df.date.dt.weekday\n",
    "df[\"week_day\"].replace(0, 7, inplace=True)\n",
    "# df[\"activedays\"] = df.date - df.date[0]"
   ]
  },
  {
   "cell_type": "code",
   "execution_count": 13,
   "id": "69bfa1c2",
   "metadata": {},
   "outputs": [
    {
     "data": {
      "image/png": "[encoded data removed]",
      "text/plain": [
       "<Figure size 640x480 with 1 Axes>"
      ]
     },
     "metadata": {},
     "output_type": "display_data"
    },
    {
     "data": {
      "text/plain": [
       "failure\n",
       "0    124387\n",
       "1       106\n",
       "Name: count, dtype: int64"
      ]
     },
     "execution_count": 13,
     "metadata": {},
     "output_type": "execute_result"
    }
   ],
   "source": [
    "sns.countplot(x=\"failure\", data=df)\n",
    "plt.title(\"Total of Failure\")\n",
    "plt.show()\n",
    "\n",
    "df[\"failure\"].value_counts()"
   ]
  },
  {
   "cell_type": "code",
   "execution_count": 14,
   "id": "6d89cf6c",
   "metadata": {},
   "outputs": [
    {
     "data": {
      "image/png": "[encoded data removed]",
      "text/plain": [
       "<Figure size 640x480 with 1 Axes>"
      ]
     },
     "metadata": {},
     "output_type": "display_data"
    }
   ],
   "source": [
    "sns.countplot(x=\"month\", hue=\"failure\", data=df)\n",
    "plt.show()"
   ]
  },
  {
   "cell_type": "code",
   "execution_count": 15,
   "id": "ee218c00",
   "metadata": {},
   "outputs": [
    {
     "data": {
      "image/png": "[encoded data removed]",
      "text/plain": [
       "<Figure size 640x480 with 1 Axes>"
      ]
     },
     "metadata": {},
     "output_type": "display_data"
    }
   ],
   "source": [
    "df.groupby(\"month\").agg({\"device\":lambda x: x.nunique()}).plot()\n",
    "plt.show()"
   ]
  },
  {
   "cell_type": "code",
   "execution_count": 16,
   "id": "fccf7ab2",
   "metadata": {},
   "outputs": [
    {
     "data": {
      "image/png": "[encoded data removed]",
      "text/plain": [
       "<Figure size 640x480 with 1 Axes>"
      ]
     },
     "metadata": {},
     "output_type": "display_data"
    }
   ],
   "source": [
    "sns.countplot(x=\"month\", data=df[df[\"failure\"] == 1])\n",
    "plt.title(\"Total of Failure by Month\")\n",
    "plt.show()"
   ]
  },
  {
   "cell_type": "code",
   "execution_count": null,
   "id": "ac814847",
   "metadata": {},
   "outputs": [],
   "source": []
  }
 ],
 "metadata": {
  "kernelspec": {
   "display_name": "Python 3 (ipykernel)",
   "language": "python",
   "name": "python3"
  },
  "language_info": {
   "codemirror_mode": {
    "name": "ipython",
    "version": 3
   },
   "file_extension": ".py",
   "mimetype": "text/x-python",
   "name": "python",
   "nbconvert_exporter": "python",
   "pygments_lexer": "ipython3",
   "version": "3.10.9"
  }
 },
 "nbformat": 4,
 "nbformat_minor": 5
}
