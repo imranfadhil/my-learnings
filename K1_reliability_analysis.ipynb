{
 "cells": [
  {
   "cell_type": "markdown",
   "id": "ed15acef",
   "metadata": {},
   "source": [
    "# Reliability Analysis"
   ]
  },
  {
   "cell_type": "markdown",
   "id": "bbb2a6b0",
   "metadata": {},
   "source": [
    "## Awareness\n",
    "1. Awareness of advanced statistical and reliability concepts and applications.\n",
    "2. Familiarity with advanced statistical concepts and methods, including statistical modelling.\n",
    "3. Awareness of the applications of advanced statistical methods in data science.\n",
    "4. Understanding reliability concepts, methods, and applications."
   ]
  },
  {
   "cell_type": "code",
   "execution_count": null,
   "id": "15304b9a",
   "metadata": {},
   "outputs": [],
   "source": []
  },
  {
   "cell_type": "code",
   "execution_count": null,
   "id": "8b8c7e76",
   "metadata": {},
   "outputs": [],
   "source": []
  },
  {
   "cell_type": "markdown",
   "id": "bc776514",
   "metadata": {},
   "source": [
    "## Knowledge\n",
    "1. Apply advanced statistical and reliability methods effectively.\n",
    "2. Learn advanced statistical methods.\n",
    "3. Proficient in using advanced statistical techniques with statistical software or packages.\n",
    "4. Understand basic reliability analysis methods.\n",
    "5. Can use reliability software or packages for implementing reliability models."
   ]
  },
  {
   "cell_type": "code",
   "execution_count": null,
   "id": "501819f1",
   "metadata": {},
   "outputs": [],
   "source": []
  }
 ],
 "metadata": {
  "kernelspec": {
   "display_name": "Python 3 (ipykernel)",
   "language": "python",
   "name": "python3"
  },
  "language_info": {
   "codemirror_mode": {
    "name": "ipython",
    "version": 3
   },
   "file_extension": ".py",
   "mimetype": "text/x-python",
   "name": "python",
   "nbconvert_exporter": "python",
   "pygments_lexer": "ipython3",
   "version": "3.7.9"
  }
 },
 "nbformat": 4,
 "nbformat_minor": 5
}
