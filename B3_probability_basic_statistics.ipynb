{
 "cells": [
  {
   "cell_type": "markdown",
   "id": "94c10e3e",
   "metadata": {},
   "source": [
    "# Probability and Basic Statistics"
   ]
  },
  {
   "cell_type": "markdown",
   "id": "bf7f3a4f",
   "metadata": {},
   "source": [
    "### Descriptor: Skill Level\n",
    "1. Able to select an appropriate probability analysis based on nature of the data and business knowledge.\n",
    "2. Able to understand and apply advanced probability methods, such as Bayes Theorem, random number generation, central limit theorem, etc.\n",
    "3. Able to choose the correct hypothesis testing and confidence interval approaches for a given business problem.\n",
    "4. Able to define and perform estimation using techniques such as maximum likelihood estimation (MLE) and least squares.\n"
   ]
  },
  {
   "cell_type": "markdown",
   "id": "3f02a290",
   "metadata": {},
   "source": [
    "## 1. Appropriate Probability Analysis\n"
   ]
  },
  {
   "cell_type": "code",
   "execution_count": null,
   "id": "c38a2c05",
   "metadata": {},
   "outputs": [],
   "source": []
  },
  {
   "cell_type": "markdown",
   "id": "4eb2d369",
   "metadata": {},
   "source": [
    "## 2. Advanced Probability Methods\n"
   ]
  },
  {
   "attachments": {
    "image.png": {
     "image/png": "[encoded data removed]"
    }
   },
   "cell_type": "markdown",
   "id": "252cd1a8",
   "metadata": {},
   "source": [
    "### Bayes Theorem\n",
    "Describes the probability of an event based on prior knowledge. ![image.png](attachment:image.png)\n",
    "- P(A) or P(B) also known as prior probability\n",
    "- P(A|B) or P(B|A) a.k.a. posterior probability"
   ]
  },
  {
   "cell_type": "markdown",
   "id": "f67894e5",
   "metadata": {},
   "source": [
    "### Random Number Generation (RNG)\n",
    "True randomness is based on natural occuring entropy: atmospheric noise, thermal noise etc\n",
    "\n",
    "Hardware (HRNG)\n",
    "- Based on physical/ mechanical action: dice rolling, coin flipping etc.\n",
    "\n",
    "Pseudo (PRNG)\n",
    "- Based on initial value which is called seed. May reproduced based on the seed number."
   ]
  },
  {
   "cell_type": "code",
   "execution_count": 29,
   "id": "f4846d27",
   "metadata": {},
   "outputs": [
    {
     "name": "stdout",
     "output_type": "stream",
     "text": [
      "randint  58\n",
      "randrange  60\n",
      "random  0.651592972722763\n"
     ]
    }
   ],
   "source": [
    "import random\n",
    "# random.seed(1)\n",
    "print(\"randint \", random.randint(1, 100))\n",
    "print(\"randrange \", random.randrange(100))\n",
    "print(\"random \", random.random())"
   ]
  },
  {
   "cell_type": "markdown",
   "id": "277fdd9c",
   "metadata": {},
   "source": [
    "### Central Limit Theorem\n",
    "CLT states that the distribution of $\\bar{x}$ is approximately normal, $\\bar{x}$ ~ $(\\mu, \\frac{\\sigma}{\\sqrt{n}})$. This approximation gets better when the sample size increase."
   ]
  },
  {
   "cell_type": "markdown",
   "id": "13128b9f",
   "metadata": {},
   "source": [
    "## 3. Hypothesis Testing and Confidence Interval\n",
    "\n",
    "Implemented in drift analysis for Proxy Well Model (PWM) where we check whether data drift and/ or model drift occur."
   ]
  },
  {
   "cell_type": "code",
   "execution_count": 1,
   "id": "99e585b9",
   "metadata": {},
   "outputs": [],
   "source": [
    "from evidently.dashboard import Dashboard\n",
    "from evidently.dashboard.tabs import DataDriftTab, NumTargetDriftTab, RegressionPerformanceTab\n",
    "from evidently.pipeline.column_mapping import ColumnMapping\n",
    "from evidently.model_profile import Profile\n",
    "from evidently.model_profile.sections import DataDriftProfileSection, NumTargetDriftProfileSection\n",
    "from evidently.model_profile.sections import RegressionPerformanceProfileSection\n",
    "import json"
   ]
  },
  {
   "cell_type": "code",
   "execution_count": 2,
   "id": "319e0b0f",
   "metadata": {},
   "outputs": [],
   "source": [
    "from sklearn.datasets import fetch_california_housing\n",
    "data = fetch_california_housing(as_frame=True)\n",
    "housing_data = data.frame\n",
    "housing_data.rename(columns={'MedHouseVal': 'target'}, inplace=True)\n",
    "housing_data['prediction'] = housing_data['target'].values + np.random.normal(0, 5, housing_data.shape[0])"
   ]
  },
  {
   "cell_type": "code",
   "execution_count": 11,
   "id": "05f89c7c",
   "metadata": {},
   "outputs": [
    {
     "data": {
      "text/html": [
       "<div>\n",
       "<style scoped>\n",
       "    .dataframe tbody tr th:only-of-type {\n",
       "        vertical-align: middle;\n",
       "    }\n",
       "\n",
       "    .dataframe tbody tr th {\n",
       "        vertical-align: top;\n",
       "    }\n",
       "\n",
       "    .dataframe thead th {\n",
       "        text-align: right;\n",
       "    }\n",
       "</style>\n",
       "<table border=\"1\" class=\"dataframe\">\n",
       "  <thead>\n",
       "    <tr style=\"text-align: right;\">\n",
       "      <th></th>\n",
       "      <th>MedInc</th>\n",
       "      <th>HouseAge</th>\n",
       "      <th>AveRooms</th>\n",
       "      <th>AveBedrms</th>\n",
       "      <th>Population</th>\n",
       "      <th>AveOccup</th>\n",
       "      <th>Latitude</th>\n",
       "      <th>Longitude</th>\n",
       "      <th>MedHouseVal</th>\n",
       "    </tr>\n",
       "  </thead>\n",
       "  <tbody>\n",
       "    <tr>\n",
       "      <th>0</th>\n",
       "      <td>8.3252</td>\n",
       "      <td>41.0</td>\n",
       "      <td>6.984127</td>\n",
       "      <td>1.023810</td>\n",
       "      <td>322.0</td>\n",
       "      <td>2.555556</td>\n",
       "      <td>37.88</td>\n",
       "      <td>-122.23</td>\n",
       "      <td>4.526</td>\n",
       "    </tr>\n",
       "    <tr>\n",
       "      <th>1</th>\n",
       "      <td>8.3014</td>\n",
       "      <td>21.0</td>\n",
       "      <td>6.238137</td>\n",
       "      <td>0.971880</td>\n",
       "      <td>2401.0</td>\n",
       "      <td>2.109842</td>\n",
       "      <td>37.86</td>\n",
       "      <td>-122.22</td>\n",
       "      <td>3.585</td>\n",
       "    </tr>\n",
       "    <tr>\n",
       "      <th>2</th>\n",
       "      <td>7.2574</td>\n",
       "      <td>52.0</td>\n",
       "      <td>8.288136</td>\n",
       "      <td>1.073446</td>\n",
       "      <td>496.0</td>\n",
       "      <td>2.802260</td>\n",
       "      <td>37.85</td>\n",
       "      <td>-122.24</td>\n",
       "      <td>3.521</td>\n",
       "    </tr>\n",
       "    <tr>\n",
       "      <th>3</th>\n",
       "      <td>5.6431</td>\n",
       "      <td>52.0</td>\n",
       "      <td>5.817352</td>\n",
       "      <td>1.073059</td>\n",
       "      <td>558.0</td>\n",
       "      <td>2.547945</td>\n",
       "      <td>37.85</td>\n",
       "      <td>-122.25</td>\n",
       "      <td>3.413</td>\n",
       "    </tr>\n",
       "    <tr>\n",
       "      <th>4</th>\n",
       "      <td>3.8462</td>\n",
       "      <td>52.0</td>\n",
       "      <td>6.281853</td>\n",
       "      <td>1.081081</td>\n",
       "      <td>565.0</td>\n",
       "      <td>2.181467</td>\n",
       "      <td>37.85</td>\n",
       "      <td>-122.25</td>\n",
       "      <td>3.422</td>\n",
       "    </tr>\n",
       "    <tr>\n",
       "      <th>...</th>\n",
       "      <td>...</td>\n",
       "      <td>...</td>\n",
       "      <td>...</td>\n",
       "      <td>...</td>\n",
       "      <td>...</td>\n",
       "      <td>...</td>\n",
       "      <td>...</td>\n",
       "      <td>...</td>\n",
       "      <td>...</td>\n",
       "    </tr>\n",
       "    <tr>\n",
       "      <th>20635</th>\n",
       "      <td>1.5603</td>\n",
       "      <td>25.0</td>\n",
       "      <td>5.045455</td>\n",
       "      <td>1.133333</td>\n",
       "      <td>845.0</td>\n",
       "      <td>2.560606</td>\n",
       "      <td>39.48</td>\n",
       "      <td>-121.09</td>\n",
       "      <td>0.781</td>\n",
       "    </tr>\n",
       "    <tr>\n",
       "      <th>20636</th>\n",
       "      <td>2.5568</td>\n",
       "      <td>18.0</td>\n",
       "      <td>6.114035</td>\n",
       "      <td>1.315789</td>\n",
       "      <td>356.0</td>\n",
       "      <td>3.122807</td>\n",
       "      <td>39.49</td>\n",
       "      <td>-121.21</td>\n",
       "      <td>0.771</td>\n",
       "    </tr>\n",
       "    <tr>\n",
       "      <th>20637</th>\n",
       "      <td>1.7000</td>\n",
       "      <td>17.0</td>\n",
       "      <td>5.205543</td>\n",
       "      <td>1.120092</td>\n",
       "      <td>1007.0</td>\n",
       "      <td>2.325635</td>\n",
       "      <td>39.43</td>\n",
       "      <td>-121.22</td>\n",
       "      <td>0.923</td>\n",
       "    </tr>\n",
       "    <tr>\n",
       "      <th>20638</th>\n",
       "      <td>1.8672</td>\n",
       "      <td>18.0</td>\n",
       "      <td>5.329513</td>\n",
       "      <td>1.171920</td>\n",
       "      <td>741.0</td>\n",
       "      <td>2.123209</td>\n",
       "      <td>39.43</td>\n",
       "      <td>-121.32</td>\n",
       "      <td>0.847</td>\n",
       "    </tr>\n",
       "    <tr>\n",
       "      <th>20639</th>\n",
       "      <td>2.3886</td>\n",
       "      <td>16.0</td>\n",
       "      <td>5.254717</td>\n",
       "      <td>1.162264</td>\n",
       "      <td>1387.0</td>\n",
       "      <td>2.616981</td>\n",
       "      <td>39.37</td>\n",
       "      <td>-121.24</td>\n",
       "      <td>0.894</td>\n",
       "    </tr>\n",
       "  </tbody>\n",
       "</table>\n",
       "<p>20640 rows × 9 columns</p>\n",
       "</div>"
      ],
      "text/plain": [
       "       MedInc  HouseAge  AveRooms  AveBedrms  Population  AveOccup  Latitude  \\\n",
       "0      8.3252      41.0  6.984127   1.023810       322.0  2.555556     37.88   \n",
       "1      8.3014      21.0  6.238137   0.971880      2401.0  2.109842     37.86   \n",
       "2      7.2574      52.0  8.288136   1.073446       496.0  2.802260     37.85   \n",
       "3      5.6431      52.0  5.817352   1.073059       558.0  2.547945     37.85   \n",
       "4      3.8462      52.0  6.281853   1.081081       565.0  2.181467     37.85   \n",
       "...       ...       ...       ...        ...         ...       ...       ...   \n",
       "20635  1.5603      25.0  5.045455   1.133333       845.0  2.560606     39.48   \n",
       "20636  2.5568      18.0  6.114035   1.315789       356.0  3.122807     39.49   \n",
       "20637  1.7000      17.0  5.205543   1.120092      1007.0  2.325635     39.43   \n",
       "20638  1.8672      18.0  5.329513   1.171920       741.0  2.123209     39.43   \n",
       "20639  2.3886      16.0  5.254717   1.162264      1387.0  2.616981     39.37   \n",
       "\n",
       "       Longitude  MedHouseVal  \n",
       "0        -122.23        4.526  \n",
       "1        -122.22        3.585  \n",
       "2        -122.24        3.521  \n",
       "3        -122.25        3.413  \n",
       "4        -122.25        3.422  \n",
       "...          ...          ...  \n",
       "20635    -121.09        0.781  \n",
       "20636    -121.21        0.771  \n",
       "20637    -121.22        0.923  \n",
       "20638    -121.32        0.847  \n",
       "20639    -121.24        0.894  \n",
       "\n",
       "[20640 rows x 9 columns]"
      ]
     },
     "execution_count": 11,
     "metadata": {},
     "output_type": "execute_result"
    }
   ],
   "source": [
    "housing_data"
   ]
  },
  {
   "cell_type": "code",
   "execution_count": 5,
   "id": "ec0d347c",
   "metadata": {},
   "outputs": [],
   "source": [
    "reference_data = housing_data[:int(0.7*len(housing_data))]\n",
    "current_data = housing_data[int(0.7*len(housing_data)):]\n",
    "\n",
    "column_mapping = ColumnMapping(target=run.data.params[\"variable\"], prediction='prediction')  "
   ]
  },
  {
   "cell_type": "code",
   "execution_count": 10,
   "id": "0eb98391",
   "metadata": {},
   "outputs": [
    {
     "name": "stdout",
     "output_type": "stream",
     "text": [
      "Widget [Regression Model Performance Report.] requires 'target' and 'prediction' columns\n"
     ]
    }
   ],
   "source": [
    "dashboards = dict(\n",
    "    data_drift=Dashboard(tabs=[DataDriftTab()]),\n",
    "    target_drift=Dashboard(tabs=[NumTargetDriftTab()]),\n",
    "    model_drift=Dashboard(tabs=[RegressionPerformanceTab(verbose_level=0)]),\n",
    ")\n",
    "\n",
    "profiles = dict(\n",
    "    data_drift=Profile([DataDriftProfileSection()]),\n",
    "    target_drift=Profile([NumTargetDriftProfileSection()]),\n",
    "    model_drift=Profile([RegressionPerformanceProfileSection()]),\n",
    ")\n",
    "\n",
    "sections = []\n",
    "for d, dashboard in dashboards.items():\n",
    "    try:\n",
    "        dashboard.calculate(reference_data, current_data, column_mapping=column_mapping)\n",
    "        sections.append(profiles[d])\n",
    "    except Exception as e:\n",
    "        print(e)\n",
    "\n",
    "# Run data, target and model drift analysis using Evidently AI\n",
    "reports = []\n",
    "for sect in sections:\n",
    "    sect.calculate(reference_data, current_data, column_mapping=column_mapping)\n",
    "    report = sect.json()\n",
    "    temp_json = json.loads(report)\n",
    "    reports.append(temp_json)"
   ]
  },
  {
   "cell_type": "markdown",
   "id": "13fe1ff8",
   "metadata": {},
   "source": [
    "## 4. Maximum Likelihood Estimation (MLE)\n",
    "What is MLE? Estimating the parameters of a probability distribution which maximize the likelihood function.\n",
    "Why MLE? To make inference about the population.\n",
    "Where being implemented?"
   ]
  },
  {
   "cell_type": "code",
   "execution_count": null,
   "id": "31983caa",
   "metadata": {},
   "outputs": [],
   "source": []
  },
  {
   "cell_type": "code",
   "execution_count": null,
   "id": "24b3ff1a",
   "metadata": {},
   "outputs": [],
   "source": []
  }
 ],
 "metadata": {
  "kernelspec": {
   "display_name": "Python 3 (ipykernel)",
   "language": "python",
   "name": "python3"
  },
  "language_info": {
   "codemirror_mode": {
    "name": "ipython",
    "version": 3
   },
   "file_extension": ".py",
   "mimetype": "text/x-python",
   "name": "python",
   "nbconvert_exporter": "python",
   "pygments_lexer": "ipython3",
   "version": "3.7.9"
  }
 },
 "nbformat": 4,
 "nbformat_minor": 5
}
