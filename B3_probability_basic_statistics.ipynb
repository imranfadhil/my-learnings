{
 "cells": [
  {
   "cell_type": "markdown",
   "id": "87407cc4",
   "metadata": {},
   "source": [
    "# Probability and Basic Statistics"
   ]
  },
  {
   "cell_type": "markdown",
   "id": "f8cb3f65",
   "metadata": {},
   "source": [
    "### Descriptor: Skill Level\n",
    "1. Able to select an appropriate probability analysis based on nature of the data and business knowledge.\n",
    "2. Able to understand and apply advanced probability methods, such as Bayes Theorem, random number generation, central limit theorem, etc.\n",
    "3. Able to choose the correct hypothesis testing and confidence interval approaches for a given business problem.\n",
    "4. Able to define and perform estimation using techniques such as maximum likelihood estimation (MLE) and least squares.\n"
   ]
  },
  {
   "cell_type": "markdown",
   "id": "6e2b317c",
   "metadata": {},
   "source": [
    "### 1. Appropriate Probability Analysis"
   ]
  },
  {
   "cell_type": "code",
   "execution_count": null,
   "id": "3b92276c",
   "metadata": {},
   "outputs": [],
   "source": []
  },
  {
   "cell_type": "markdown",
   "id": "c2b859ea",
   "metadata": {},
   "source": [
    "### 2. Advanced Probability Methods"
   ]
  },
  {
   "cell_type": "code",
   "execution_count": null,
   "id": "912b3663",
   "metadata": {},
   "outputs": [],
   "source": []
  },
  {
   "cell_type": "code",
   "execution_count": null,
   "id": "fe1d45a8",
   "metadata": {},
   "outputs": [],
   "source": []
  },
  {
   "cell_type": "markdown",
   "id": "3ee91ecb",
   "metadata": {},
   "source": [
    "### 3. Hypothesis Testing and Confidence Interval"
   ]
  },
  {
   "cell_type": "code",
   "execution_count": null,
   "id": "c41c3845",
   "metadata": {},
   "outputs": [],
   "source": []
  },
  {
   "cell_type": "markdown",
   "id": "7afca156",
   "metadata": {},
   "source": [
    "### 4. Maximum Likelihood Estimation (MLE)"
   ]
  },
  {
   "cell_type": "code",
   "execution_count": null,
   "id": "5c9f0982",
   "metadata": {},
   "outputs": [],
   "source": []
  },
  {
   "cell_type": "code",
   "execution_count": null,
   "id": "5756d28e",
   "metadata": {},
   "outputs": [],
   "source": []
  }
 ],
 "metadata": {
  "kernelspec": {
   "display_name": "Python 3 (ipykernel)",
   "language": "python",
   "name": "python3"
  },
  "language_info": {
   "codemirror_mode": {
    "name": "ipython",
    "version": 3
   },
   "file_extension": ".py",
   "mimetype": "text/x-python",
   "name": "python",
   "nbconvert_exporter": "python",
   "pygments_lexer": "ipython3",
   "version": "3.7.9"
  }
 },
 "nbformat": 4,
 "nbformat_minor": 5
}
