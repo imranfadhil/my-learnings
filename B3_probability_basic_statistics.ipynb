{
 "cells": [
  {
   "cell_type": "markdown",
   "id": "94c10e3e",
   "metadata": {},
   "source": [
    "# Probability and Basic Statistics"
   ]
  },
  {
   "cell_type": "markdown",
   "id": "bf7f3a4f",
   "metadata": {},
   "source": [
    "### Descriptor: Skill Level\n",
    "1. Able to select an appropriate probability analysis based on nature of the data and business knowledge.\n",
    "2. Able to understand and apply advanced probability methods, such as Bayes Theorem, random number generation, central limit theorem, etc.\n",
    "3. Able to choose the correct hypothesis testing and confidence interval approaches for a given business problem.\n",
    "4. Able to define and perform estimation using techniques such as maximum likelihood estimation (MLE) and least squares.\n"
   ]
  },
  {
   "cell_type": "markdown",
   "id": "3f02a290",
   "metadata": {},
   "source": [
    "### 1. Appropriate Probability Analysis\n"
   ]
  },
  {
   "cell_type": "code",
   "execution_count": null,
   "id": "c38a2c05",
   "metadata": {},
   "outputs": [],
   "source": []
  },
  {
   "cell_type": "markdown",
   "id": "4eb2d369",
   "metadata": {},
   "source": [
    "### 2. Advanced Probability Methods\n",
    "Markov Chain Monte Carlo (MCMC)\n"
   ]
  },
  {
   "cell_type": "code",
   "execution_count": null,
   "id": "af76bdd2",
   "metadata": {},
   "outputs": [],
   "source": []
  },
  {
   "cell_type": "code",
   "execution_count": null,
   "id": "76e6432f",
   "metadata": {},
   "outputs": [],
   "source": []
  },
  {
   "cell_type": "markdown",
   "id": "13128b9f",
   "metadata": {},
   "source": [
    "### 3. Hypothesis Testing and Confidence Interval\n",
    "\n",
    "Implemented in drift analysis for Proxy Well Model (PWM) where we check whether data drift and/ or model drift occur."
   ]
  },
  {
   "cell_type": "code",
   "execution_count": null,
   "id": "99e585b9",
   "metadata": {},
   "outputs": [],
   "source": []
  },
  {
   "cell_type": "markdown",
   "id": "13fe1ff8",
   "metadata": {},
   "source": [
    "### 4. Maximum Likelihood Estimation (MLE)\n",
    "What is MLE? Estimating the parameters of a probability distribution which maximize the likelihood function.\n",
    "Why MLE? To make inference about the population.\n",
    "Where being implemented?"
   ]
  },
  {
   "cell_type": "code",
   "execution_count": null,
   "id": "31983caa",
   "metadata": {},
   "outputs": [],
   "source": []
  },
  {
   "cell_type": "code",
   "execution_count": null,
   "id": "24b3ff1a",
   "metadata": {},
   "outputs": [],
   "source": []
  }
 ],
 "metadata": {
  "kernelspec": {
   "display_name": "Python 3 (ipykernel)",
   "language": "python",
   "name": "python3"
  },
  "language_info": {
   "codemirror_mode": {
    "name": "ipython",
    "version": 3
   },
   "file_extension": ".py",
   "mimetype": "text/x-python",
   "name": "python",
   "nbconvert_exporter": "python",
   "pygments_lexer": "ipython3",
   "version": "3.7.9"
  }
 },
 "nbformat": 4,
 "nbformat_minor": 5
}
